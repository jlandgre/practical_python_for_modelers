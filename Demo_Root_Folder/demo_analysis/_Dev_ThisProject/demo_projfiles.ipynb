{
 "cells": [
  {
   "cell_type": "markdown",
   "id": "d4cd04b5-3410-434c-abc8-c999c3c51cfc",
   "metadata": {},
   "source": [
    "## Working with a Project's Data and Code Files \n",
    "This notebook demonstrates using the `projfiles.Files()` class as a one-stop shop for managing directory and file locations within a standard, project folder structure. This avoids needing to continually specify file and folder paths inside case study notebooks and across multiple code libraries. The `Files()` `IsTest` parameter allows toggling between running with test and production data.</br>\n",
    "<div style=\"text-align: right\">JDL version 4/12/23</div></br>\n",
    "\n",
    "```\n",
    "Demo_Root_Folder           << Overall Project folder\n",
    "├── demo_data              << Production data (if local)\n",
    "└── demo_scripts\n",
    "    ├── xxx.py\n",
    "    ├── libs               << Generic utility code libraries\n",
    "    │   ├── yyy.py  \n",
    "    │   └── util.py\n",
    "    ├── projfiles\n",
    "        └── projfiles.py   <<Project file names and directory paths\n",
    "    └── tests\n",
    "        ├── data.csv        <<Test data\n",
    "        └── test_xxx.py     <<test code for xxx.py\n",
    "```\n",
    "\n",
    "* Replace 'demo' with your own project abbreviation as the `proj_abbrev` variable below\n",
    "* Store code for \"the model\" in `demo_scripts` --with tests in a sub-folder there\n",
    "* Use `demo_case_studies` for one-off studies and virtual DOX's\n",
    "* Use `demo_data` for downloaded data and other generic, processed data needed for case studies\n",
    "* Store generic code libraries in `demo_scripts/libs` subfolder\n",
    "* Use [projfiles.py](https://github.com/jlandgre/Python_Projfiles \"projfiles Github repo\") to track file and folder locations \n",
    "</br>"
   ]
  },
  {
   "cell_type": "markdown",
   "id": "84d5ecfd-e5e4-4f11-a849-ca09bdae56dd",
   "metadata": {},
   "source": [
    "### Typically first, import any open-source libraries needed by your code"
   ]
  },
  {
   "cell_type": "code",
   "execution_count": null,
   "id": "5f7f9f7e-ba56-4147-9490-d1ba203e2b71",
   "metadata": {},
   "outputs": [],
   "source": [
    "import pandas as pd\n",
    "import numpy as np"
   ]
  },
  {
   "cell_type": "markdown",
   "id": "39afbbba-a076-4164-8406-831a39d3388b",
   "metadata": {},
   "source": [
    "### Initialize a Files object for your project\n",
    "This cell shows how to efficiently point this Jupyter Notebook to the projfiles.py code to import it and thereby gain access to its `Files` class. Using `os.sep` makes the code operating system agnostic. Behind the scenes, projfiles uses its own \"self-location\" method relative to projfiles.py. This is insurance against os.getcwd() having wonkiness that depends on how the notebook is launched. As long as you can successfully import projfiles, it will orient itself and create a Files class with all correct locations within the folder structure."
   ]
  },
  {
   "cell_type": "code",
   "execution_count": null,
   "id": "4f4ea784-ff42-4a9e-a150-56945c6829bc",
   "metadata": {},
   "outputs": [],
   "source": [
    "import sys, os\n",
    "proj_abbrev, name_root_folder, lst_dirs = 'demo', 'Demo_Root_Folder', os.getcwd().split(os.sep)\n",
    "\n",
    "#Usually overkill, but we use root folder to orient because `os.getcwd()` can vary depending on how Jupyter is launched\n",
    "idx_root = lst_dirs.index(name_root_folder) + 1\n",
    "\n",
    "#This adds the demo_scripts/projfiles directory path to sys.path making projfiles importable\n",
    "dir_projfiles = os.sep.join(lst_dirs[0:idx_root] + [proj_abbrev + '_scripts', 'projfiles'])\n",
    "if dir_projfiles not in sys.path: sys.path.append(dir_projfiles)\n",
    "import projfiles"
   ]
  },
  {
   "cell_type": "code",
   "execution_count": null,
   "id": "4cb699dd",
   "metadata": {},
   "outputs": [],
   "source": [
    "#Python techniques to discuss and demo:\n",
    "#sys.path\n",
    "#os.sep to make OS-agnostic\n",
    "#list indexing (lst.index()\n",
    "#slice notation [0:idx], [-1] etc\n",
    "#directories as lists...using join() method\n",
    "#if x not in sys.path"
   ]
  },
  {
   "cell_type": "markdown",
   "id": "eb33f7d8-3c9b-40c1-9efe-e713dabf25fe",
   "metadata": {},
   "source": [
    "### Instance the project's files Class and run the function to set all locations\n",
    "`files` (lower case) below is an instance of the Files (upper case) class that resides in `projfiles.py` that we imported. The line below populates `files` with all directory and file locations for a project in the standard folder structure -- making it easy to import needed data etc. `PrintLocations` is a function aka method in the Files class. It's just an easy way to avoid repeating code in a notebook when you need to check directory paths"
   ]
  },
  {
   "cell_type": "code",
   "execution_count": null,
   "id": "a80987df-7df5-4b24-9861-9177aa480ea4",
   "metadata": {},
   "outputs": [],
   "source": [
    "#Production mode (set folder containing this Jupyter notebook as \"home\"; source latest project data from demo_data)\n",
    "files = projfiles.Files('demo', subdir_home=lst_dirs[-1])\n",
    "files.PrintLocations()"
   ]
  },
  {
   "cell_type": "code",
   "execution_count": null,
   "id": "392f2ab5-0d5b-4205-a855-f6958ffe196c",
   "metadata": {},
   "outputs": [],
   "source": [
    "#Test mode (no need for home folder; source data from phone_scripts/tests or\n",
    "#specify a tests subfolder as shown)\n",
    "files = projfiles.Files('demo', IsTest=True, subdir_tests='Issue005_Fix Print Bug_0423')\n",
    "files.PrintLocations()"
   ]
  },
  {
   "cell_type": "markdown",
   "id": "8b999934-b155-4ebb-84f7-625c4db4f3ba",
   "metadata": {},
   "source": [
    "### Notes about Files Class\n",
    "* You can customize projfiles.py's SetProjectSpecificPaths function to point to project-specific files and folders\n",
    "* Once instanced, your code can also manually reset files class attributes as needed (but be careful not to make spaghetti!). This sometimes comes up during testing where you may want the testing to use production files that are not subject to being updated</br></br>\n",
    "<div style=\"text-align: left\"><img src=\"images/SetProjectSpecificPaths.png\" alt=\"image alt text\" width=\"500\"></div></br>"
   ]
  },
  {
   "cell_type": "markdown",
   "id": "16de1bf4-e23e-4dd8-8756-b6a7cdd19f65",
   "metadata": {},
   "source": [
    "### As an exercise\n",
    "* print out just the first element in sys.path\n",
    "* use slice notation to print the next to last element of that sys.path item\n",
    "* print out the index of the project's demo_scripts folder name in files.path_tests\n",
    "* Use split and join to make a version of sys.path[0] in the alternate operating system from yours ('/' separator for Mac or '\\\\\\\\' for Windows)"
   ]
  },
  {
   "cell_type": "markdown",
   "id": "74787998-0e13-412f-b5ff-0cd31da65723",
   "metadata": {},
   "source": [
    "### As an Exercise\n",
    "* Add to projfiles.py a project_specific attribute that points to the `demo_data/viscosity_data.xlsx` file.\n",
    "* Re-instance files with the new attribute and use it to open the data as a DataFrame\n",
    "* Don't forget that you need to restart the *.ipynb kernel after saving changes to an imported library</br></br>\n",
    "<p align=\"center\"><img src=\"images/viscosity excel.png\" alt=\"image alt text\" width=\"300\"></p>"
   ]
  },
  {
   "cell_type": "markdown",
   "id": "aec7cc3f-430e-40ea-a3c4-2d1b33e02404",
   "metadata": {},
   "source": [
    "### Compressed version of above code that you can paste into your *.ipynb or *.py files as preamble"
   ]
  },
  {
   "cell_type": "code",
   "execution_count": null,
   "id": "ae8c9b89-6024-42f9-98a0-b49c9871f490",
   "metadata": {},
   "outputs": [],
   "source": [
    "import sys, os\n",
    "proj_abbrev, lsthome = 'demo',  os.getcwd().split(os.sep)\n",
    "idx_root = lsthome.index('Demo_Root_Folder') + 1\n",
    "dir_projfiles = os.sep.join(lsthome[0:idx_root] + [proj_abbrev + '_scripts', 'projfiles'])\n",
    "if dir_projfiles not in sys.path: sys.path.append(dir_projfiles)\n",
    "import projfiles\n",
    "files = projfiles.Files(proj_abbrev, subdir_home=lsthome[-1])\n",
    "files.PrintLocations()"
   ]
  },
  {
   "cell_type": "markdown",
   "id": "c1e73445-01de-4331-b435-114f377878f4",
   "metadata": {},
   "source": [
    "#### If you want an even more compact version, you can move the preamble code to an init.py file\n",
    "* init.py should resdide in same directory as the Jupyter notebook that uses it.  \n",
    "* This means that init.py must be present for the code to work though!"
   ]
  },
  {
   "cell_type": "code",
   "execution_count": null,
   "id": "bc891cef-7536-499e-a117-a4e1e4067432",
   "metadata": {},
   "outputs": [],
   "source": [
    "import os, init\n",
    "files = init.SetProjFiles('demo', 'Demo_Root_Folder', os.getcwd(), IsTest=True, subdir_tests='proj041223')"
   ]
  },
  {
   "cell_type": "code",
   "execution_count": null,
   "id": "c05e65a1-592a-4275-b3cf-6fe8d17ead15",
   "metadata": {},
   "outputs": [],
   "source": []
  }
 ],
 "metadata": {
  "kernelspec": {
   "display_name": "Python 3",
   "language": "python",
   "name": "python3"
  },
  "language_info": {
   "codemirror_mode": {
    "name": "ipython",
    "version": 3
   },
   "file_extension": ".py",
   "mimetype": "text/x-python",
   "name": "python",
   "nbconvert_exporter": "python",
   "pygments_lexer": "ipython3",
   "version": "3.8.8"
  }
 },
 "nbformat": 4,
 "nbformat_minor": 5
}
