{
 "cells": [
  {
   "cell_type": "markdown",
   "id": "54619b9c-ee8f-4b16-9f40-80ed8c339878",
   "metadata": {},
   "source": [
    "## Roll Length Model Demo - Level 2 Jupyter \"Procedure Functions\" Code Style\n",
    "* if caliper and diameter of a roll-wound substrate are known from previous measurements, the model can calculate roll length. This is useful industrially to know how many linear meters remain on a roll and thereby be able to calculate parameters like roll weight and run time\n",
    "* In a second use case, the model can fit experimental length versus diameter data to calculate the substrate's effective caliper while wound on the roll\n",
    "* This example uses an \"organized Jupyter notebook\" approach of putting actions in Python functions\n",
    "</br></br>\n",
    "JDL / DataDelve LLC, July 2023\n"
   ]
  },
  {
   "cell_type": "code",
   "execution_count": 1,
   "id": "8d3a0a26-4f67-4a05-b784-8504fddece34",
   "metadata": {},
   "outputs": [],
   "source": [
    "import math\n",
    "import pandas as pd\n",
    "from sklearn.linear_model import LinearRegression\n",
    "import matplotlib.pyplot as plt"
   ]
  },
  {
   "cell_type": "code",
   "execution_count": 2,
   "id": "9125dc5b-80cb-471c-9d62-fd7b17d904fb",
   "metadata": {},
   "outputs": [],
   "source": [
    "\"\"\"\n",
    "=========================================================================\n",
    "Unit Conversions Used by Model\n",
    "=========================================================================\n",
    "\"\"\"\n",
    "d_unit_conv = {'mm_m':1000., \n",
    "               'g_kg':1000., \n",
    "               's_min':60}"
   ]
  },
  {
   "cell_type": "markdown",
   "id": "e77b52b9-323e-406f-a765-05ded107bee5",
   "metadata": {},
   "source": [
    "#### Calculate Roll Length from Diameter"
   ]
  },
  {
   "cell_type": "code",
   "execution_count": 3,
   "id": "068d34be-6b13-4c14-ac25-e663094aec62",
   "metadata": {},
   "outputs": [],
   "source": [
    "\"\"\"\n",
    "=========================================================================\n",
    "CalculateRollLength Procedure -  Length calculation given caliper, diam \n",
    "and diam_core inputs. \n",
    "\n",
    "All inputs in units of mm. length output in meters\n",
    "=========================================================================\n",
    "\"\"\"\n",
    "def CalculateRollLength(d_unit_conv, diam_roll, diam_core, caliper):\n",
    "    \"\"\"\n",
    "    Calculate roll length in meters\n",
    "    diam_roll, diam_core and caliper: [float] inputs in mm units\n",
    "    Caliper measured by Thwing Albert single layer test method (042361-27)\n",
    "    \n",
    "    JDL 7/7/23\n",
    "    \"\"\"\n",
    "    mm_m = d_unit_conv['mm_m']\n",
    "    \n",
    "    numerator = math.pi * ((diam_roll / mm_m) ** 2 - (diam_core / mm_m) ** 2)\n",
    "    denom = (4 * (caliper / mm_m))\n",
    "    length = round(numerator / denom, 1)\n",
    "    return length"
   ]
  },
  {
   "cell_type": "code",
   "execution_count": 4,
   "id": "fc832ef2-18b1-420b-91a8-d687eb21e727",
   "metadata": {},
   "outputs": [
    {
     "data": {
      "text/plain": [
       "'roll length is 8747.4 m'"
      ]
     },
     "execution_count": 4,
     "metadata": {},
     "output_type": "execute_result"
    }
   ],
   "source": [
    "#test calculation\n",
    "f\"roll length is {CalculateRollLength(d_unit_conv, 1500, 150, 0.2)} m\""
   ]
  },
  {
   "cell_type": "markdown",
   "id": "d0f7e2d0-be7e-4f5e-b894-6e8f01ee045a",
   "metadata": {},
   "source": [
    "#### Fit raw data to calculate effective caliper\n",
    "Fitting data for a roll of in-market toilet paper\n",
    "<p align=\"center\">\n",
    "  Test roll</br>\n",
    "  <img src=Session4_0_IMG_3850.jpeg \"non-transformed raw data\" width=200></br>\n",
    "</p>"
   ]
  },
  {
   "cell_type": "markdown",
   "id": "feaae12d-3df4-4477-a84c-d38ae739c4b7",
   "metadata": {},
   "source": [
    "A plot of L versus Diam^2 should be linear with slope and intercept related to caliper"
   ]
  },
  {
   "cell_type": "code",
   "execution_count": 5,
   "id": "b8f34587-cce0-442f-babc-5c5f85e0592b",
   "metadata": {},
   "outputs": [],
   "source": [
    "\"\"\"\n",
    "=========================================================================\n",
    "CaliperFromRawData Procedure\n",
    "=========================================================================\n",
    "\"\"\"\n",
    "#=========================================================================\n",
    "def CaliperFromRawData(file_raw):\n",
    "    \"\"\"\n",
    "    Multi-step procedure to calculate caliper by fitting Length vs Diam^2 data\n",
    "    JDL 7/7/23\n",
    "    \"\"\"\n",
    "    df_raw = ReadRawData(file_raw)\n",
    "    df_raw = AddCalculatedRawCols(df_raw)\n",
    "    slope, intercept, R_squared = FitRawData(df_raw)\n",
    "    caliper = CalculateCaliper(slope)\n",
    "    return caliper, df_raw, R_squared\n",
    "\n",
    "#=========================================================================\n",
    "\n",
    "def ReadRawData(file_raw):\n",
    "    \"\"\"\n",
    "    Import the raw data to Pandas DataFrame\n",
    "    \"\"\"\n",
    "    return pd.read_excel(file_raw)\n",
    "\n",
    "def AddCalculatedRawCols(df_raw):\n",
    "    \"\"\"\n",
    "    Add Calculated columns for diam in meters and diam_m squared\n",
    "    \"\"\"\n",
    "    df_raw['diam_m'] = df_raw['diameter'] / 1000\n",
    "    df_raw['diam_m^2'] = df_raw['diam_m'] ** 2\n",
    "    return df_raw\n",
    "\n",
    "def FitRawData(df_raw):\n",
    "    \"\"\"\n",
    "    Calculate slope, intercept, and R-squared attributes for \n",
    "    raw data linear fit\n",
    "    JDL 4/27/23\n",
    "    \"\"\"\n",
    "\n",
    "    X = df_raw['diam_m^2'].values.reshape(-1, 1)\n",
    "    y = df_raw['length'].values\n",
    "\n",
    "    # Fit the data using scikit-learn LinearRegression\n",
    "    reg = LinearRegression()\n",
    "    reg.fit(X, y)\n",
    "\n",
    "    # Set the attributes\n",
    "    slope = reg.coef_[0]\n",
    "    intercept = reg.intercept_\n",
    "    R_squared = round(reg.score(X, y), 4)\n",
    "    return slope, intercept, R_squared\n",
    "\n",
    "def CalculateCaliper(slope):\n",
    "    \"\"\"\n",
    "    Calculate the caliper attribute from the slope and convert to millimeters.\n",
    "    Round the caliper to 4 decimal places.\n",
    "    \"\"\"\n",
    "\n",
    "    # Calculate caliper using the formula: caliper = pi / (4 * slope)\n",
    "    caliper = math.pi / (4 * slope)\n",
    "\n",
    "    # Convert caliper to millimeters and round\n",
    "    caliper *= 1000\n",
    "    caliper = round(caliper, 4)\n",
    "    return caliper"
   ]
  },
  {
   "cell_type": "code",
   "execution_count": 6,
   "id": "fd1b7c34-17b3-4862-8620-43056fdd9f4e",
   "metadata": {},
   "outputs": [],
   "source": [
    "df_raw = ReadRawData('cushiony_tp_length_vs_diam.xlsx')"
   ]
  },
  {
   "cell_type": "code",
   "execution_count": 7,
   "id": "4dc4c414-4922-4930-a3a9-cd0eeb78fd23",
   "metadata": {},
   "outputs": [
    {
     "name": "stdout",
     "output_type": "stream",
     "text": [
      "Caliper for these data is 0.4804 mm\n",
      "R^2 from the L vs D^2 fit is 0.9985\n"
     ]
    }
   ],
   "source": [
    "caliper, df_raw, R_squared = CaliperFromRawData('cushiony_tp_length_vs_diam.xlsx')\n",
    "print(f\"Caliper for these data is {caliper} mm\")\n",
    "print(f\"R^2 from the L vs D^2 fit is {R_squared}\")"
   ]
  },
  {
   "cell_type": "code",
   "execution_count": 10,
   "id": "4abcb969-eda0-425c-b84a-dec39ebf5ecf",
   "metadata": {},
   "outputs": [],
   "source": [
    "\"\"\"\n",
    "=========================================================================\n",
    "Plot raw and transformed data\n",
    "=========================================================================\n",
    "\"\"\"\n",
    "def XYDataPlot(X, Y, x_label, y_label, plot_title):\n",
    "    \"\"\"\n",
    "    XY Plot of raw and transformed data\n",
    "    \"\"\"\n",
    "    plt.scatter(X, Y)\n",
    "    plt.xlabel(x_label), plt.ylabel(y_label)\n",
    "    plt.title(plot_title)\n",
    "    plt.grid(True, which='both', linestyle='--', linewidth=0.5)\n",
    "    plt.show()"
   ]
  },
  {
   "cell_type": "code",
   "execution_count": 11,
   "id": "5d31ca97-58bd-4005-adb2-4274c7c29452",
   "metadata": {},
   "outputs": [
    {
     "data": {
      "image/png": "[encoded data removed]",
      "text/plain": [
       "<Figure size 432x288 with 1 Axes>"
      ]
     },
     "metadata": {
      "needs_background": "light"
     },
     "output_type": "display_data"
    },
    {
     "data": {
      "image/png": "[encoded data removed]",
      "text/plain": [
       "<Figure size 432x288 with 1 Axes>"
      ]
     },
     "metadata": {
      "needs_background": "light"
     },
     "output_type": "display_data"
    }
   ],
   "source": [
    "XYDataPlot(df_raw['diameter'], df_raw['length'], 'Diameter (mm)', 'Length (m)', 'Length vs. Diameter') \n",
    "XYDataPlot(df_raw['diam_m^2'], df_raw['length'], 'Diameter Squared (m^2)', 'Length (m)', 'Length vs. Diameter Squared') "
   ]
  },
  {
   "cell_type": "code",
   "execution_count": null,
   "id": "07087554-1a5c-416b-abb9-bbc5fa9711d1",
   "metadata": {},
   "outputs": [],
   "source": []
  }
 ],
 "metadata": {
  "kernelspec": {
   "display_name": "Python 3",
   "language": "python",
   "name": "python3"
  },
  "language_info": {
   "codemirror_mode": {
    "name": "ipython",
    "version": 3
   },
   "file_extension": ".py",
   "mimetype": "text/x-python",
   "name": "python",
   "nbconvert_exporter": "python",
   "pygments_lexer": "ipython3",
   "version": "3.8.8"
  }
 },
 "nbformat": 4,
 "nbformat_minor": 5
}
